{
 "cells": [
  {
   "cell_type": "code",
   "execution_count": 7,
   "id": "e2092d1f-1339-4971-9d54-c21645d2e1a4",
   "metadata": {},
   "outputs": [],
   "source": [
    "import pandas as pd\n",
    "import numpy as np\n",
    "\n",
    "data = pd.read_csv('eda_nafilled.csv')\n",
    "data['is_senior'] = pd.get_dummies(data, columns = ['seniority'])['seniority_senior']\n",
    "\n",
    "def min_max_scaler(X):\n",
    "    X_std = (X - X.min(axis=0)) / (X.max(axis=0) - X.min(axis=0))\n",
    "    return X_std\n",
    "\n",
    "data['Rating'] = data['Rating'].replace(-1,np.mean(data['Rating']))\n",
    "data['age'] = data['age'].replace(-1,np.mean(data['age']))\n",
    "for feature in ['avg_salary','age','desc_len','num_comp','Rating']:\n",
    "    data[feature] = min_max_scaler(data[feature])\n",
    "    \n",
    "columns_to_remove = ['Unnamed: 0', 'Founded', 'seniority', 'min_salary', 'max_salary', 'hourly', 'Salary Estimate']\n",
    "\n",
    "data.drop(columns=columns_to_remove, inplace=True)\n",
    "data.to_csv('scaled.csv')"
   ]
  },
  {
   "cell_type": "code",
   "execution_count": null,
   "id": "76f2877e-3be6-43bc-a447-50d1febf9c69",
   "metadata": {},
   "outputs": [],
   "source": []
  }
 ],
 "metadata": {
  "kernelspec": {
   "display_name": "Python 3 (ipykernel)",
   "language": "python",
   "name": "python3"
  },
  "language_info": {
   "codemirror_mode": {
    "name": "ipython",
    "version": 3
   },
   "file_extension": ".py",
   "mimetype": "text/x-python",
   "name": "python",
   "nbconvert_exporter": "python",
   "pygments_lexer": "ipython3",
   "version": "3.10.8"
  }
 },
 "nbformat": 4,
 "nbformat_minor": 5
}
