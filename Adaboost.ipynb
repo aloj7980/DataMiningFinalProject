{
 "cells": [
  {
   "cell_type": "code",
   "execution_count": 1,
   "metadata": {},
   "outputs": [
    {
     "name": "stdout",
     "output_type": "stream",
     "text": [
      "Best Hyperparameters: {'n_estimators': 150, 'learning_rate': 0.01}\n",
      "Cross-Validation RMSE Scores: [17.96357425 15.08376611 20.39806562 23.56725569 17.23819612  9.26523581\n",
      " 25.69611917 12.95978708 18.13174385 17.2411356 ]\n",
      "Mean Cross-Validation RMSE: 17.754487929770907\n",
      "Cross-Validation MAE Scores: [ 8.35333333  6.21333333  9.16216216  9.25        7.2027027   4.60810811\n",
      " 10.45945946  4.60135135  8.81756757  8.13513514]\n",
      "Mean Cross-Validation MAE: 7.6803153153153145\n",
      "RMSE on Test Set: 16.71338530406535\n",
      "MAE on Test Set: 7.197986577181208\n"
     ]
    }
   ],
   "source": [
    "import pandas as pd\n",
    "from sklearn.model_selection import cross_val_score, RandomizedSearchCV, KFold, train_test_split\n",
    "from sklearn.ensemble import AdaBoostRegressor\n",
    "from sklearn.tree import DecisionTreeRegressor\n",
    "from sklearn.metrics import mean_squared_error, mean_absolute_error\n",
    "import numpy as np\n",
    "\n",
    "pca = pd.read_csv(\"PCA_features.csv\")\n",
    "mf = pd.read_csv(\"manual_features.csv\")\n",
    "res = pd.read_csv(\"response.csv\")\n",
    "data = pd.merge(pca, mf, left_index=True, right_index=True)\n",
    "\n",
    "y = res['avg_salary']\n",
    "\n",
    "X_train, X_test, y_train, y_test = train_test_split(data, y, test_size=0.2, random_state=42)\n",
    "\n",
    "base_regressor = DecisionTreeRegressor()\n",
    "\n",
    "adaboost_regressor = AdaBoostRegressor(base_regressor, random_state=42)\n",
    "\n",
    "param_dist = {\n",
    "    'n_estimators': [50, 100, 150],\n",
    "    'learning_rate': [0.01, 0.1, 0.2, 0.5],\n",
    "}\n",
    "\n",
    "kf = KFold(n_splits=10, shuffle=True, random_state=42)\n",
    "random_search = RandomizedSearchCV(adaboost_regressor, param_distributions=param_dist, n_iter=10, scoring='neg_mean_squared_error', cv=kf, random_state=42)\n",
    "random_search.fit(X_train, y_train)\n",
    "\n",
    "best_adaboost_model = random_search.best_estimator_\n",
    "\n",
    "cv_rmse_scores = np.sqrt(-cross_val_score(best_adaboost_model, data, y, cv=kf, scoring='neg_mean_squared_error'))\n",
    "cv_mae_scores = -cross_val_score(best_adaboost_model, data, y, cv=kf, scoring='neg_mean_absolute_error')\n",
    "\n",
    "predictions = best_adaboost_model.predict(X_test)\n",
    "\n",
    "rmse = np.sqrt(mean_squared_error(y_test, predictions))\n",
    "mae = mean_absolute_error(y_test, predictions)\n",
    "\n",
    "print(f\"Best Hyperparameters: {random_search.best_params_}\")\n",
    "print(f\"Cross-Validation RMSE Scores: {cv_rmse_scores}\")\n",
    "print(f\"Mean Cross-Validation RMSE: {cv_rmse_scores.mean()}\")\n",
    "print(f\"Cross-Validation MAE Scores: {cv_mae_scores}\")\n",
    "print(f\"Mean Cross-Validation MAE: {cv_mae_scores.mean()}\")\n",
    "print(f\"RMSE on Test Set: {rmse}\")\n",
    "print(f\"MAE on Test Set: {mae}\")"
   ]
  }
 ],
 "metadata": {
  "kernelspec": {
   "display_name": "Python 3",
   "language": "python",
   "name": "python3"
  },
  "language_info": {
   "codemirror_mode": {
    "name": "ipython",
    "version": 3
   },
   "file_extension": ".py",
   "mimetype": "text/x-python",
   "name": "python",
   "nbconvert_exporter": "python",
   "pygments_lexer": "ipython3",
   "version": "3.11.1"
  }
 },
 "nbformat": 4,
 "nbformat_minor": 2
}
