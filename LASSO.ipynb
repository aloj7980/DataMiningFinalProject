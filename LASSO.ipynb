{
 "cells": [
  {
   "cell_type": "code",
   "execution_count": 7,
   "id": "0daf6081-ee2a-41aa-9ac1-8cb4f309904c",
   "metadata": {},
   "outputs": [
    {
     "name": "stdout",
     "output_type": "stream",
     "text": [
      "Lasso(alpha=0.001)\n",
      "Number of features with nonzero coefficients: 56\n"
     ]
    }
   ],
   "source": [
    "import pandas as pd\n",
    "from sklearn.linear_model import Lasso\n",
    "from sklearn.preprocessing import OneHotEncoder\n",
    "\n",
    "# Read the scaled data into a pandas DataFrame\n",
    "df = pd.read_csv('scaled.csv')\n",
    "\n",
    "# Drop the first unnamed column\n",
    "df = df.loc[:, ~df.columns.str.contains('^Unnamed')]\n",
    "\n",
    "# Get dummy variables for categorical features\n",
    "categorical_cols = df.select_dtypes(include=['object']).columns.tolist()\n",
    "df = pd.get_dummies(df, columns=categorical_cols)\n",
    "\n",
    "# Separate features and target variable\n",
    "X = df.drop('avg_salary', axis=1)\n",
    "y = df['avg_salary']\n",
    "\n",
    "# Fit Lasso regression\n",
    "lasso = Lasso(alpha=0.001)  # You can adjust alpha as needed\n",
    "lasso.fit(X, y)\n",
    "print(lasso)\n",
    "\n",
    "# Get indices of features with nonzero coefficients\n",
    "nonzero_coef_indices = lasso.coef_ != 0\n",
    "\n",
    "# Get the column names with nonzero coefficients\n",
    "selected_features = X.columns[nonzero_coef_indices]\n",
    "\n",
    "# Create a DataFrame with only features that had nonzero coefficients in Lasso\n",
    "lasso_features_df = X[selected_features]\n",
    "\n",
    "# Print the number of features with nonzero coefficients\n",
    "print(\"Number of features with nonzero coefficients:\", len(selected_features))\n"
   ]
  },
  {
   "cell_type": "code",
   "execution_count": 8,
   "id": "f05b466b-f3c9-461c-ba4e-3ed50865be67",
   "metadata": {},
   "outputs": [],
   "source": [
    "# Export the DataFrame to a CSV file\n",
    "lasso_features_df.to_csv('LASSO_features.csv', index=False)"
   ]
  },
  {
   "cell_type": "code",
   "execution_count": null,
   "id": "91524b9d-eb13-477f-ae0f-1ecdb419b5af",
   "metadata": {},
   "outputs": [],
   "source": []
  }
 ],
 "metadata": {
  "kernelspec": {
   "display_name": "Python 3 (ipykernel)",
   "language": "python",
   "name": "python3"
  },
  "language_info": {
   "codemirror_mode": {
    "name": "ipython",
    "version": 3
   },
   "file_extension": ".py",
   "mimetype": "text/x-python",
   "name": "python",
   "nbconvert_exporter": "python",
   "pygments_lexer": "ipython3",
   "version": "3.10.8"
  }
 },
 "nbformat": 4,
 "nbformat_minor": 5
}
