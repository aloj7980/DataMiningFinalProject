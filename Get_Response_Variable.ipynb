{
 "cells": [
  {
   "cell_type": "code",
   "execution_count": 5,
   "id": "92650826-738f-407d-87f2-efcd6b3baf53",
   "metadata": {},
   "outputs": [
    {
     "name": "stdout",
     "output_type": "stream",
     "text": [
      "     avg_salary\n",
      "0          72.0\n",
      "1          87.5\n",
      "2          85.0\n",
      "3          76.5\n",
      "4         114.5\n",
      "..          ...\n",
      "737        84.5\n",
      "738       102.5\n",
      "739        73.5\n",
      "740       127.5\n",
      "741        93.5\n",
      "\n",
      "[742 rows x 1 columns]\n"
     ]
    }
   ],
   "source": [
    "import pandas as pd\n",
    "import numpy as np\n",
    "\n",
    "df = pd.read_csv('eda_nafilled.csv')\n",
    "# Assuming 'df' is your original DataFrame\n",
    "avg_salary_df = df[['avg_salary']].copy()\n",
    "\n",
    "# Display the DataFrame with only the 'avg_salary' variable\n",
    "print(avg_salary_df)\n"
   ]
  },
  {
   "cell_type": "code",
   "execution_count": 6,
   "id": "579258a4-dfff-4636-bb39-1535faf7530b",
   "metadata": {},
   "outputs": [],
   "source": [
    "avg_salary_df.to_csv('response.csv')"
   ]
  },
  {
   "cell_type": "code",
   "execution_count": null,
   "id": "c769bc08-9079-4a5d-9ce2-483fc2519895",
   "metadata": {},
   "outputs": [],
   "source": []
  }
 ],
 "metadata": {
  "kernelspec": {
   "display_name": "Python 3 (ipykernel)",
   "language": "python",
   "name": "python3"
  },
  "language_info": {
   "codemirror_mode": {
    "name": "ipython",
    "version": 3
   },
   "file_extension": ".py",
   "mimetype": "text/x-python",
   "name": "python",
   "nbconvert_exporter": "python",
   "pygments_lexer": "ipython3",
   "version": "3.10.8"
  }
 },
 "nbformat": 4,
 "nbformat_minor": 5
}
