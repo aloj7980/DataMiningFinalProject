{
 "cells": [
  {
   "cell_type": "code",
   "execution_count": 8,
   "metadata": {},
   "outputs": [
    {
     "name": "stdout",
     "output_type": "stream",
     "text": [
      "RMSE Scores: [17.11183006 25.16294317 15.11200978 19.34067331 10.08470165 15.20785868\n",
      " 18.78652631 13.7037218  28.24234737 13.72155061]\n",
      "Mean RMSE Score: 17.647416273203913\n",
      "MAE Scores: [11.83786667 17.27326667 10.28628378 13.17324324  5.78445946  9.68243243\n",
      " 11.52986486  9.61202703 15.20155405  8.83128378]\n",
      "Mean MAE Score: 11.3212281981982\n"
     ]
    }
   ],
   "source": [
    "import pandas as pd\n",
    "from sklearn.model_selection import cross_val_score\n",
    "from sklearn.ensemble import RandomForestRegressor\n",
    "from sklearn.metrics import mean_squared_error, mean_absolute_error\n",
    "import numpy as np\n",
    "\n",
    "pca = pd.read_csv(\"PCA_features.csv\")\n",
    "mf = pd.read_csv(\"manual_features.csv\")\n",
    "res = pd.read_csv(\"response.csv\")\n",
    "data = pd.merge(pca, mf, left_index=True, right_index=True)\n",
    "\n",
    "y = res['avg_salary']\n",
    "\n",
    "rf_regressor = RandomForestRegressor(n_estimators=100, random_state=42)\n",
    "\n",
    "rmse_scores = np.sqrt(-cross_val_score(rf_regressor, data, y, cv=10, scoring='neg_mean_squared_error'))\n",
    "print(\"RMSE Scores:\", rmse_scores)\n",
    "print(\"Mean RMSE Score:\", rmse_scores.mean())\n",
    "\n",
    "mae_scores = -cross_val_score(rf_regressor, data, y, cv=10, scoring='neg_mean_absolute_error')\n",
    "print(\"MAE Scores:\", mae_scores)\n",
    "print(\"Mean MAE Score:\", mae_scores.mean())"
   ]
  }
 ],
 "metadata": {
  "kernelspec": {
   "display_name": "Python 3",
   "language": "python",
   "name": "python3"
  },
  "language_info": {
   "codemirror_mode": {
    "name": "ipython",
    "version": 3
   },
   "file_extension": ".py",
   "mimetype": "text/x-python",
   "name": "python",
   "nbconvert_exporter": "python",
   "pygments_lexer": "ipython3",
   "version": "3.11.1"
  }
 },
 "nbformat": 4,
 "nbformat_minor": 2
}
