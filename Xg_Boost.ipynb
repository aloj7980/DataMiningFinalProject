{
 "cells": [
  {
   "cell_type": "code",
   "execution_count": 2,
   "metadata": {},
   "outputs": [
    {
     "name": "stdout",
     "output_type": "stream",
     "text": [
      "RMSE Scores: [16.16070366 25.88916124 16.81288222 19.54177168  9.72243509  9.78089258\n",
      " 17.37909568 12.80957217 27.12846997 12.21155132]\n",
      "Mean RMSE Score: 16.743653559979432\n",
      "MAE Scores: [ 9.26516658 17.83461985  7.9984592  11.64346071  2.18928048  3.76931621\n",
      "  7.28078231  5.22515251 12.11643731  4.61137777]\n",
      "Mean MAE Score: 8.193405292287604\n"
     ]
    }
   ],
   "source": [
    "import pandas as pd\n",
    "from sklearn.model_selection import cross_val_score\n",
    "from xgboost import XGBRegressor\n",
    "from sklearn.metrics import mean_squared_error, mean_absolute_error\n",
    "import numpy as np\n",
    "\n",
    "pca = pd.read_csv(\"PCA_features.csv\")\n",
    "mf = pd.read_csv(\"manual_features.csv\")\n",
    "res = pd.read_csv(\"response.csv\")\n",
    "data = pd.merge(pca, mf, left_index=True, right_index=True)\n",
    "\n",
    "y = res['avg_salary']\n",
    "\n",
    "xgb_regressor = XGBRegressor(n_estimators=100, random_state=42)\n",
    "\n",
    "\n",
    "rmse_scores = np.sqrt(-cross_val_score(xgb_regressor, data, y, cv=10, scoring='neg_mean_squared_error'))\n",
    "print(\"RMSE Scores:\", rmse_scores)\n",
    "print(\"Mean RMSE Score:\", rmse_scores.mean())\n",
    "\n",
    "\n",
    "mae_scores = -cross_val_score(xgb_regressor, data, y, cv=10, scoring='neg_mean_absolute_error')\n",
    "print(\"MAE Scores:\", mae_scores)\n",
    "print(\"Mean MAE Score:\", mae_scores.mean())"
   ]
  }
 ],
 "metadata": {
  "kernelspec": {
   "display_name": "Python 3",
   "language": "python",
   "name": "python3"
  },
  "language_info": {
   "codemirror_mode": {
    "name": "ipython",
    "version": 3
   },
   "file_extension": ".py",
   "mimetype": "text/x-python",
   "name": "python",
   "nbconvert_exporter": "python",
   "pygments_lexer": "ipython3",
   "version": "3.11.1"
  }
 },
 "nbformat": 4,
 "nbformat_minor": 2
}
